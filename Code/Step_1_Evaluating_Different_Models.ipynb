{
  "nbformat": 4,
  "nbformat_minor": 0,
  "metadata": {
    "colab": {
      "provenance": [],
      "collapsed_sections": [],
      "authorship_tag": "ABX9TyOq+DXH4+23m9g02qgjkoOw",
      "include_colab_link": true
    },
    "kernelspec": {
      "name": "python3",
      "display_name": "Python 3"
    },
    "language_info": {
      "name": "python"
    }
  },
  "cells": [
    {
      "cell_type": "markdown",
      "metadata": {
        "id": "view-in-github",
        "colab_type": "text"
      },
      "source": [
        "<a href=\"https://colab.research.google.com/github/replacementAI/Finding-Alpha-with-AI/blob/main/Step_1_Evaluating_Different_Models.ipynb\" target=\"_parent\"><img src=\"https://colab.research.google.com/assets/colab-badge.svg\" alt=\"Open In Colab\"/></a>"
      ]
    },
    {
      "cell_type": "markdown",
      "source": [
        "1. Import libraries"
      ],
      "metadata": {
        "id": "SRLUqA2UZwDw"
      }
    },
    {
      "cell_type": "code",
      "execution_count": 1,
      "metadata": {
        "id": "fNqY3VpaYHtu"
      },
      "outputs": [],
      "source": [
        "import numpy as np\n",
        "import pandas as pd\n",
        "import matplotlib.pyplot as plt\n",
        "import seaborn as sns\n",
        "from sklearn.linear_model import Ridge, ElasticNet, Lasso\n",
        "from sklearn.neighbors import KNeighborsRegressor\n",
        "from sklearn.model_selection import train_test_split\n",
        "plt.rcParams[\"figure.figsize\"] = (7, 7)"
      ]
    },
    {
      "cell_type": "markdown",
      "source": [
        "2. Define functions to load data, create features"
      ],
      "metadata": {
        "id": "7TTu_DyxaPKV"
      }
    },
    {
      "cell_type": "code",
      "source": [
        "def csv_loader(path, index_col=True, flip=True):\n",
        "    if index_col:\n",
        "        df = pd.read_csv(path, index_col=0, parse_dates=True) \n",
        "    else: df = pd.read_csv(path)\n",
        "    if flip:\n",
        "        df = df.iloc[::-1]\n",
        "    return df\n",
        "\n",
        "def create_features(df):\n",
        "    df['Spread'] = df['High'] - df['Low']\n",
        "    df['LastClose'] = df['Close'].shift(periods=1)\n",
        "    df['Gap'] = df['Open'] - df['LastClose']\n",
        "    return df\n",
        "\n",
        "def drop_features(df):\n",
        "    df.drop(columns=['Spread',\n",
        "                     'LastClose',\n",
        "                     'Gap',\n",
        "                     ],\n",
        "            inplace=True)\n",
        "    \n",
        "    df.drop(columns=['Open','High','Low','Close','Volume',\n",
        "                     #'Adj Close'\n",
        "                     ], inplace=True)\n",
        "    return df\n",
        "\n",
        "def process_features(df, lookback, step):\n",
        "    lookback += 1\n",
        "    for i in range(step, lookback, step):\n",
        "        df['%d Max' % (i)] = df['High'].rolling(window=i).max()\n",
        "        df['%d Max' % (i)] = df['%d Max' % (i)].pct_change(fill_method=None)\n",
        "        df['%d Min' % (i)] = df['Low'].rolling(window=i).min()\n",
        "        df['%d Min' % (i)] = df['%d Min' % (i)].pct_change(fill_method=None)\n",
        "\n",
        "        df['%d Spread' % (i)] = df['Spread'].pct_change(periods=i, fill_method=None)\n",
        "        df['%d Rolling Avg Spread' % (i)] = df['Spread'].rolling(window=i).mean()\n",
        "\n",
        "        df['%d Gap' % (i)] = df['Gap'].pct_change(periods=i, fill_method=None)\n",
        "        df['%d Rolling Avg Gap' % (i)] = df['Gap'].rolling(window=i).mean()\n",
        "\n",
        "        df['%d Rolling Avg Open' % (i)] = df['Open'].rolling(window=i).mean()\n",
        "        df['%d Rolling Avg Open' % (i)] = df['%d Rolling Avg Open' % (i)].pct_change(fill_method=None)\n",
        "\n",
        "        df['%d Rolling Avg High' % (i)] = df['High'].rolling(window=i).mean()\n",
        "        df['%d Rolling Avg High' % (i)] = df['%d Rolling Avg High' % (i)].pct_change(fill_method=None)\n",
        "\n",
        "        df['%d Rolling Avg Low' % (i)] = df['Low'].rolling(window=i).mean()\n",
        "        df['%d Rolling Avg Low' % (i)] = df['%d Rolling Avg Low' % (i)].pct_change(fill_method=None)\n",
        "\n",
        "        df['%d Rolling Avg Close' % (i)] = df['Close'].rolling(window=i).mean()\n",
        "        df['%d Rolling Avg Close' % (i)] = df['%d Rolling Avg Close' % (i)].pct_change(fill_method=None)\n",
        "    return df\n",
        "  \n",
        "def features(df, lookback, step):\n",
        "    create_features(df)\n",
        "    process_features(df, lookback, step)\n",
        "    drop_features(df)\n",
        "    return df"
      ],
      "metadata": {
        "id": "ghSr14QfaVyO"
      },
      "execution_count": 2,
      "outputs": []
    },
    {
      "cell_type": "markdown",
      "source": [
        "3. Create a function to create a target."
      ],
      "metadata": {
        "id": "JkunvYS2cP_o"
      }
    },
    {
      "cell_type": "code",
      "source": [
        "def create_target(df, lookforward=2, target='Open'):\n",
        "    df['Target'] = np.log(df[target].shift(periods=-lookforward)/df[target].shift(periods=-1))\n",
        "    return df"
      ],
      "metadata": {
        "id": "7h7RwgtucSfI"
      },
      "execution_count": 3,
      "outputs": []
    },
    {
      "cell_type": "markdown",
      "source": [
        "**Why create a seperate target instead of using the open or close price?** \n",
        "\n",
        "Because the price of the stock is always changing. For example, the model creates a rule to buy at 20 and sell at 30. What if the stock price goes above 30? \n",
        "\n",
        "**The model can see all the data so it will know what to do if it goes to a higher price.** \n",
        "\n",
        "What if the stock we are creating a strategy on reaches a new high, or a new low? Then the model won't know what to do. We need to scale the data in a way that doesn't make any assumptions. We will log normalize the open or close (you can pick) price and use that as our target."
      ],
      "metadata": {
        "id": "QPoCXSE5b4xH"
      }
    },
    {
      "cell_type": "markdown",
      "source": [
        "4. Define the models we are going to use\n",
        "\n",
        "We are going to use regularized linear models since they have a built in function that allows them to pick which features to keep or remove, and we are going to add a nearest neighbor model just to mix it up."
      ],
      "metadata": {
        "id": "VffvXFmkpxrq"
      }
    },
    {
      "cell_type": "code",
      "source": [
        "estimator1 = Ridge()\n",
        "estimator2 = Lasso(alpha=.001)\n",
        "estimator3 = ElasticNet(alpha=.001)\n",
        "estimator4 = KNeighborsRegressor()\n",
        "models = [estimator1,estimator2,estimator3,estimator4]"
      ],
      "metadata": {
        "id": "yxj52om-p3Wn"
      },
      "execution_count": 8,
      "outputs": []
    },
    {
      "cell_type": "markdown",
      "source": [
        "5. Define the parameters and the dataframe where we will store our results\n",
        "\n",
        "Make sure that step is less than lookback. Our step is the interval of how many periods back we are going to creatures from, and lookback is how far back we will create features. "
      ],
      "metadata": {
        "id": "wtnpyFrtqxv-"
      }
    },
    {
      "cell_type": "code",
      "source": [
        "lookforward = 2\n",
        "step = 21\n",
        "lookback = 21\n",
        "\n",
        "results = pd.DataFrame()"
      ],
      "metadata": {
        "id": "-ZsbF_w5qz0L"
      },
      "execution_count": 9,
      "outputs": []
    },
    {
      "cell_type": "markdown",
      "source": [
        "6. Import the data we are going to use, pick which stock we are going to use as a target, and create features from it. Then drop all NaNs and clean the data. Then split the data in half."
      ],
      "metadata": {
        "id": "169FmQ7PsCs0"
      }
    },
    {
      "cell_type": "code",
      "source": [
        "for model in models:\n",
        "    if lookback >= step:\n",
        "        spy = csv_loader(path='/content/SPY.csv', index_col=True, flip=False)\n",
        "        agg = csv_loader(path='/content/AGG.csv', index_col=True, flip=False)\n",
        "\n",
        "        spy = create_target(spy, lookforward, target='Open')\n",
        "\n",
        "        spy = features(spy, lookback, step)\n",
        "        spy = spy.add_suffix(' SPY')\n",
        "        agg = features(agg, lookback, step)\n",
        "        agg = agg.add_suffix(' AGG')\n",
        "        cv = pd.merge(spy, agg, how='inner', on='Date')\n",
        "\n",
        "        cv.drop(cv.tail(lookforward).index, inplace=True)\n",
        "        cv.drop(cv.head(lookback).index, inplace=True)\n",
        "        X = cv\n",
        "        y = X[['Target SPY']]\n",
        "        X = X.drop(columns=['Target SPY'])\n",
        "        X.fillna(method=\"ffill\", inplace=True)\n",
        "        X.replace([np.inf, -np.inf], 0, inplace=True)\n",
        "        X.fillna(0, inplace=True)\n",
        "\n",
        "        X_train, X_test, y_train, y_test = train_test_split(X, y, test_size=0.5, shuffle=False)\n",
        "\n",
        "        model.fit(X_train, y_train)\n",
        "        y_pred = model.predict(X_test)\n",
        "        results[model] = y_pred.flatten()\n",
        "\n",
        "    else:\n",
        "        print('Lookback must be greater than or equal to step')\n",
        "        break"
      ],
      "metadata": {
        "id": "uE3-i-8QsbF8"
      },
      "execution_count": 10,
      "outputs": []
    },
    {
      "cell_type": "markdown",
      "source": [
        "7. Visualize the correlation of the models"
      ],
      "metadata": {
        "id": "C5xkxDMptFxD"
      }
    },
    {
      "cell_type": "code",
      "source": [
        "correlation = results.corr()\n",
        "sns.heatmap(correlation, annot=True, cmap='coolwarm')\n",
        "plt.tight_layout()\n",
        "plt.show()"
      ],
      "metadata": {
        "colab": {
          "base_uri": "https://localhost:8080/",
          "height": 513
        },
        "id": "TYeN7pWftLHw",
        "outputId": "bc6f621c-e110-4661-f8ca-98d237a55ecd"
      },
      "execution_count": 11,
      "outputs": [
        {
          "output_type": "display_data",
          "data": {
            "text/plain": [
              "<Figure size 504x504 with 2 Axes>"
            ],
            "image/png": "[encoded data removed]"
          },
          "metadata": {
            "needs_background": "light"
          }
        }
      ]
    },
    {
      "cell_type": "markdown",
      "source": [
        "Here we can see that ElasticNet and Lasso are correlated 1 to 1, which is odd considering they are slightly different. Why do we want uncorrelated models (correlations as close to 0 as possible)? Because when we have uncorrelated models, each model has its own strategy to maximize the scoring function, and when we combine all these uncorrelated strategies, we get a meta-strategy or meta-model which has a robust strategy."
      ],
      "metadata": {
        "id": "Wh4i3dESpsRl"
      }
    },
    {
      "cell_type": "markdown",
      "source": [
        "In the next notebook we will evaluate the performance of the meta-model vs different lookbacks and step intervals."
      ],
      "metadata": {
        "id": "zMTxOR7Utasn"
      }
    }
  ]
}
