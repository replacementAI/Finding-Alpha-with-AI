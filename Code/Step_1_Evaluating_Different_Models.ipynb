{
 "cells": [
  {
   "cell_type": "markdown",
   "source": [
    "1. Import libraries"
   ],
   "metadata": {
    "collapsed": false
   }
  },
  {
   "cell_type": "code",
   "execution_count": 26,
   "metadata": {
    "collapsed": true
   },
   "outputs": [],
   "source": [
    "import numpy as np\n",
    "import pandas as pd\n",
    "import matplotlib.pyplot as plt\n",
    "import seaborn as sns\n",
    "import yfinance as yf\n",
    "from sklearn.linear_model import Ridge, Lasso\n",
    "from sklearn.neighbors import KNeighborsRegressor\n",
    "from sklearn.model_selection import train_test_split"
   ]
  },
  {
   "cell_type": "markdown",
   "source": [
    "2. Define functions to load data, create features"
   ],
   "metadata": {
    "collapsed": false
   }
  },
  {
   "cell_type": "code",
   "execution_count": 27,
   "outputs": [],
   "source": [
    "def create_features(df):\n",
    "    df['Spread'] = df['High'] - df['Low']\n",
    "    df['Gap'] = df['Open'] - df['Close'].shift(1)\n",
    "    df['Intraday'] = df['Open'] - df['Close']\n",
    "    return df\n",
    "\n",
    "def drop_features(df):\n",
    "    df.drop(columns=['Spread',\n",
    "                     'Gap',\n",
    "                     'Intraday',\n",
    "                     ],\n",
    "            inplace=True)\n",
    "\n",
    "    df.drop(columns=['Open','High','Low','Close','Volume','Adj Close',\n",
    "                     ], inplace=True)\n",
    "    return df\n",
    "\n",
    "def process_features(df, lookback, step):\n",
    "    for i in range(step, lookback+1, step):\n",
    "        df['%d Spread' % (i)] = df['Spread'].pct_change(periods=i, fill_method=None)\n",
    "        df['%d Rolling Avg Spread' % (i)] = df['Spread'].rolling(window=i).mean()\n",
    "\n",
    "        df['%d Gap' % (i)] = df['Gap'].pct_change(periods=i, fill_method=None)\n",
    "        df['%d Rolling Avg Gap' % (i)] = df['Gap'].rolling(window=i).mean()\n",
    "\n",
    "        df['%d Intraday' % (i)] = df['Intraday'].pct_change(periods=i, fill_method=None)\n",
    "        df['%d Rolling Avg Intraday' % (i)] = df['Intraday'].rolling(window=i).mean()\n",
    "    return df\n",
    "\n",
    "def features(df, lookback, step):\n",
    "    create_features(df)\n",
    "    process_features(df, lookback, step)\n",
    "    drop_features(df)\n",
    "    return df"
   ],
   "metadata": {
    "collapsed": false
   }
  },
  {
   "cell_type": "markdown",
   "source": [
    "**What did we just do?**\n",
    "\n",
    "The spread feature measures volatility. The gap feature measures the price movement after hours, considering the stock market doesn't run 24/7. The intraday feature measures the price movement from the open to close.\n",
    "\n",
    "We will feed these features to the model to help it make a strategy."
   ],
   "metadata": {
    "collapsed": false
   }
  },
  {
   "cell_type": "markdown",
   "source": [
    "3. Create a function to create a target."
   ],
   "metadata": {
    "collapsed": false
   }
  },
  {
   "cell_type": "code",
   "execution_count": 28,
   "outputs": [],
   "source": [
    "def create_target(df, lookforward=2, target='Open'):\n",
    "    df['Target'] = np.log(df[target].shift(periods=-lookforward)/df[target].shift(periods=-1))\n",
    "    return df"
   ],
   "metadata": {
    "collapsed": false
   }
  },
  {
   "cell_type": "markdown",
   "source": [
    "**Why create a seperate target instead of using the open or close price?**\n",
    "\n",
    "Because the price of the stock is always changing. For example, the model creates a rule to buy at 20 and sell at 30. What if the stock price goes above 30?\n",
    "\n",
    "**But the model can see all the data, so it will know what to do if it goes to a higher price.**\n",
    "\n",
    "What if the stock we are creating a strategy on reaches a new high, or a new low? Then the model won't know what to do. We need to scale the data in a way that doesn't make any assumptions. We will log normalize the open or close (you can pick) price and use that as our target."
   ],
   "metadata": {
    "collapsed": false
   }
  },
  {
   "cell_type": "markdown",
   "source": [
    "4. Define the models we are going to use\n",
    "\n",
    "We are going to use regularized linear models since they have a built in function that allows them to pick which features to keep or remove, and we are going to add a nearest neighbor model just to mix it up."
   ],
   "metadata": {
    "collapsed": false
   }
  },
  {
   "cell_type": "code",
   "execution_count": 29,
   "outputs": [],
   "source": [
    "estimator1 = Ridge()\n",
    "estimator2 = Lasso(alpha=.001)\n",
    "estimator3 = KNeighborsRegressor()\n",
    "models = [estimator1,estimator2,estimator3]"
   ],
   "metadata": {
    "collapsed": false
   }
  },
  {
   "cell_type": "markdown",
   "source": [
    "5. Define the parameters and the dataframe where we will store our results\n",
    "\n",
    "Make sure that step is less than lookback. Our step is the interval of how many periods back we are going to creatures from, and lookback is how far back we will create features."
   ],
   "metadata": {
    "collapsed": false
   }
  },
  {
   "cell_type": "code",
   "execution_count": 30,
   "outputs": [],
   "source": [
    "lookforward = 2\n",
    "step = 21\n",
    "lookback = 21\n",
    "\n",
    "results = pd.DataFrame()"
   ],
   "metadata": {
    "collapsed": false
   }
  },
  {
   "cell_type": "markdown",
   "source": [
    "6. Import the data we are going to use, pick which stock we are going to use as a target, and create features from it. Then drop all NaNs and clean the data. Then split the data in half."
   ],
   "metadata": {
    "collapsed": false
   }
  },
  {
   "cell_type": "code",
   "execution_count": 31,
   "outputs": [
    {
     "name": "stdout",
     "output_type": "stream",
     "text": [
      "[*********************100%***********************]  1 of 1 completed\n",
      "[*********************100%***********************]  1 of 1 completed\n",
      "[*********************100%***********************]  1 of 1 completed\n",
      "[*********************100%***********************]  1 of 1 completed\n",
      "[*********************100%***********************]  1 of 1 completed\n",
      "[*********************100%***********************]  1 of 1 completed\n"
     ]
    }
   ],
   "source": [
    "for model in models:\n",
    "    if lookback >= step:\n",
    "        spy = yf.download('SPY', start='2004-01-01')\n",
    "        agg = yf.download('AGG', start='2004-01-01')\n",
    "\n",
    "        spy = create_target(spy, lookforward, target='Open')\n",
    "\n",
    "        spy = features(spy, lookback, step)\n",
    "        spy = spy.add_suffix(' SPY')\n",
    "        agg = features(agg, lookback, step)\n",
    "        agg = agg.add_suffix(' AGG')\n",
    "        cv = pd.merge(spy, agg, how='inner', on='Date')\n",
    "\n",
    "        cv.drop(cv.tail(lookforward).index, inplace=True)\n",
    "        cv.drop(cv.head(lookback).index, inplace=True)\n",
    "        X = cv\n",
    "        y = X[['Target SPY']]\n",
    "        X = X.drop(columns=['Target SPY'])\n",
    "        X.fillna(method=\"ffill\", inplace=True)\n",
    "        X.replace([np.inf, -np.inf], 0, inplace=True)\n",
    "        X.fillna(0, inplace=True)\n",
    "\n",
    "        X_train, X_test, y_train, y_test = train_test_split(X, y, test_size=0.75, shuffle=False)\n",
    "\n",
    "        model.fit(X_train, y_train)\n",
    "        y_pred = model.predict(X_test)\n",
    "        results[model] = y_pred.flatten()\n",
    "\n",
    "    else:\n",
    "        print('Lookback must be greater than or equal to step')\n",
    "        break"
   ],
   "metadata": {
    "collapsed": false
   }
  },
  {
   "cell_type": "markdown",
   "source": [
    "**What did we do here?**\n",
    "\n",
    "When creating features for models, you want to have a lot of diverse features, one way we can do this is by creating features from different instruments. In this case, AGG is an ETF for bonds, while SPY is an ETF for stocks."
   ],
   "metadata": {
    "collapsed": false
   }
  },
  {
   "cell_type": "markdown",
   "source": [
    "7. Visualize the correlation of the models"
   ],
   "metadata": {
    "collapsed": false
   }
  },
  {
   "cell_type": "code",
   "execution_count": 32,
   "outputs": [
    {
     "data": {
      "text/plain": "<Figure size 640x480 with 2 Axes>",
      "image/png": "[encoded data removed]"
     },
     "metadata": {},
     "output_type": "display_data"
    }
   ],
   "source": [
    "correlation = results.corr()\n",
    "sns.heatmap(correlation, annot=True, cmap='coolwarm', center=0)\n",
    "plt.tight_layout()\n",
    "plt.show()"
   ],
   "metadata": {
    "collapsed": false
   }
  },
  {
   "cell_type": "markdown",
   "source": [
    "Here we see the models are mostly uncorrelated, which is good. Why do we want uncorrelated models (correlations as close to 0 as possible)? Because when we have uncorrelated models, each model has its own strategy to maximize the scoring function, and when we combine all these uncorrelated strategies, we get a meta-strategy or meta-model which has a robust strategy."
   ],
   "metadata": {
    "collapsed": false
   }
  },
  {
   "cell_type": "markdown",
   "source": [
    "In the next notebook we will evaluate the performance of the meta-model vs different lookbacks and step intervals."
   ],
   "metadata": {
    "collapsed": false
   }
  }
 ],
 "metadata": {
  "kernelspec": {
   "display_name": "Python 3",
   "language": "python",
   "name": "python3"
  },
  "language_info": {
   "codemirror_mode": {
    "name": "ipython",
    "version": 2
   },
   "file_extension": ".py",
   "mimetype": "text/x-python",
   "name": "python",
   "nbconvert_exporter": "python",
   "pygments_lexer": "ipython2",
   "version": "2.7.6"
  }
 },
 "nbformat": 4,
 "nbformat_minor": 0
}
